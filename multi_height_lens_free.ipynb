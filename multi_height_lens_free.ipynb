{
  "nbformat": 4,
  "nbformat_minor": 0,
  "metadata": {
    "colab": {
      "provenance": []
    },
    "kernelspec": {
      "name": "python3",
      "display_name": "Python 3"
    },
    "language_info": {
      "name": "python"
    }
  },
  "cells": [
    {
      "cell_type": "code",
      "execution_count": 1,
      "metadata": {
        "id": "rurWkH6GF2jb"
      },
      "outputs": [],
      "source": [
        "import numpy as np\n",
        "import torch\n",
        "from torchvision.transforms import v2"
      ]
    },
    {
      "cell_type": "markdown",
      "source": [
        "## Light Source"
      ],
      "metadata": {
        "id": "aPtv1hdkk3vA"
      }
    },
    {
      "cell_type": "code",
      "source": [
        "class resource:\n",
        "  def __init__(self, freq, phase, amplitude):\n",
        "    self.freq = freq\n",
        "    self.phase = phase\n",
        "    self.amplitude = amplitude\n",
        "\n",
        "\n"
      ],
      "metadata": {
        "id": "J9gjNvb2G8v2"
      },
      "execution_count": null,
      "outputs": []
    },
    {
      "cell_type": "markdown",
      "source": [
        "## Distances"
      ],
      "metadata": {
        "id": "yaJgs9agk6vT"
      }
    },
    {
      "cell_type": "code",
      "source": [
        "class distance:\n",
        "    def __init__(self,z1,z2, Dz):\n",
        "        self.z1 = z1        #resource to sample distance (can be an array)\n",
        "        self.z2 = z2        #sample to sensor distance   (can be an array)\n",
        "        self.Dz = Dz        #distance between heights    (for multi-height phase retreival approach)"
      ],
      "metadata": {
        "id": "X_DL42_2JuJ6"
      },
      "execution_count": null,
      "outputs": []
    },
    {
      "cell_type": "markdown",
      "source": [
        "## Free Space"
      ],
      "metadata": {
        "id": "ZryatQ5wk9sC"
      }
    },
    {
      "cell_type": "code",
      "source": [
        "class free_space:\n",
        "    def __init__(self, n, freq, numX, numY, z, flag):\n",
        "        self.n = n\n",
        "        self.freq = freq     #source frequency\n",
        "        self.numX = numX     #number of samples in fx range (with respect to the shape of data)\n",
        "        self.numY = numY     #number of samples in fy range (with respect to the shape of data)\n",
        "        self.z = z           #distance of propagation\n",
        "        self.flag = flag     #flag for forward or backward propagation\n",
        "\n",
        "        def transfer(self):\n",
        "          Lambda = 2*np.pi*freq\n",
        "          fx = np.array(np.linspace(-1/Lambda, 1/Lambda, self.numX))\n",
        "          fy = np.array(np.linspace(-1/Lambda, 1/Lambda, self.numY))\n",
        "          grid_x, grid_y = np.meshgrid(fx, fy)\n",
        "          fz = np.sqrt((1/(Lambda**2))*np.ones(grid_x.shape) - grid_x**2 - grid_y**2)\n",
        "          H  = np.exp(1j*2*np.pi*n*flag*z*fz)\n",
        "          return H\n"
      ],
      "metadata": {
        "id": "Mb2lvLiJJ_lH"
      },
      "execution_count": null,
      "outputs": []
    },
    {
      "cell_type": "markdown",
      "source": [
        "## Back Propagation"
      ],
      "metadata": {
        "id": "ry3fmGJLlAyI"
      }
    },
    {
      "cell_type": "code",
      "source": [
        "def Back_Propagation(z, freq, hologram):\n",
        "  numX, numY = hologram.shape\n",
        "  s1 = free_space(1, freq, numX, numY, z, 1)\n",
        "  H = s1.transfer()\n",
        "  return np.abs(np.fft.ifft2(np.fft.ifftshift(H*np.fft.fftshift(np.fft.fft2(hologram)))))\n"
      ],
      "metadata": {
        "id": "XDRIbkoJTEFP"
      },
      "execution_count": null,
      "outputs": []
    },
    {
      "cell_type": "markdown",
      "source": [
        "## Forward Propagation"
      ],
      "metadata": {
        "id": "rldGGkLWhkM5"
      }
    },
    {
      "cell_type": "code",
      "source": [
        "def Forward_Propagation(z, freq, hologram):\n",
        "  numX, numY = hologram.shape\n",
        "  s1 = free_space(1, freq, numX, numY, z, -1)\n",
        "  H = s1.transfer()\n",
        "  return np.abs(np.fft.ifft2(np.fft.ifftshift(H*np.fft.fftshift(np.fft.fft2(hologram)))))"
      ],
      "metadata": {
        "id": "uY0eIGkLgTXG"
      },
      "execution_count": null,
      "outputs": []
    },
    {
      "cell_type": "markdown",
      "source": [],
      "metadata": {
        "id": "v0xsXRnChowT"
      }
    },
    {
      "cell_type": "code",
      "source": [
        "def amplitude_update(w1, w2, hologram, frame):\n",
        "  '''\n",
        "  weighed sum of measured hologram and calculated hologram with propagation\n",
        "\n",
        "  '''\n",
        "  return w1*hologram + w2*frame\n"
      ],
      "metadata": {
        "id": "kpWN9tnOmZ7h"
      },
      "execution_count": null,
      "outputs": []
    },
    {
      "cell_type": "code",
      "source": [
        "def iterative(level, z, freq, hologram, w1, w2, E, treshold):\n",
        "\n",
        "  '''\n",
        "  level : number of different measured height\n",
        "  z: the distance\n",
        "  freq: frequency(ies) of the source\n",
        "  hologram : matrix of measured holograms\n",
        "  w1: weight for measured hologram in amplitude update\n",
        "  w2: weight for calculated hologram in amplitude update\n",
        "  E: error threshold\n",
        "  treshold: treshold of the number of iterations\n",
        "\n",
        "  '''\n",
        "  frame = hologram[0]\n",
        "  phase = 0\n",
        "  error = 1000\n",
        "  while(np.abs(error) < E or treshold == 0):\n",
        "    for i in range(level):\n",
        "      for f in freq:\n",
        "         F = Forward_Propagation(z, f, frame)\n",
        "         frame = amplitude_update(w1, w2, hologram[i+1], np.abs(F))*np.exp(1j*np.angle(F))\n",
        "\n",
        "    for i in range(level-1, -1, -1):\n",
        "      for f in freq:\n",
        "         B = Back_Propagation(z, f, frame)\n",
        "         frame = amplitude_update(w1, w2, hologram[i-1], np.abs(B))*np.exp(1j*np.angle(B))\n",
        "\n",
        "    error = phase - np.angle(B)\n",
        "    phase = np.angle(B)\n",
        "    treshold -= 1\n",
        "\n",
        "  return phase\n"
      ],
      "metadata": {
        "id": "5uC9n9grho5S"
      },
      "execution_count": null,
      "outputs": []
    },
    {
      "cell_type": "markdown",
      "source": [
        "## Super Resolution"
      ],
      "metadata": {
        "id": "BbQlw5YklEhe"
      }
    },
    {
      "cell_type": "code",
      "source": [
        "seq = 9   #number of digitally shifted LR samples\n",
        "step = 2  #pixels to shift\n",
        "scale = 5 #down sampling factor\n",
        "h, w = img.shape\n",
        "\n",
        "angle = [0, 30, 60, 90, 120, 180]\n",
        "for t in angle:\n",
        "  transforms = v2.compose([\n",
        "      v2.RandomAffine(degrees = 0, translate = (step, step)),\n",
        "      v2.GaussianBlur(5, sigma=np.sqrt(2)),\n",
        "      v2.Resize((h/scale, w/scale)),\n",
        "      v2.RandomRotation(t),\n",
        "\n",
        "      v2.RandomHorizontalFlip(p=0.5),\n",
        "      v2.RandomVerticalFlip(p=0.5)\n",
        "\n",
        "\n",
        "   ])\n"
      ],
      "metadata": {
        "id": "OZ4pDDRPlwUk"
      },
      "execution_count": null,
      "outputs": []
    }
  ]
}